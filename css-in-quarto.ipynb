{
  "cells": [
    {
      "cell_type": "raw",
      "metadata": {},
      "source": [
        "---\n",
        "title: \"css in quarto\"\n",
        "editor: visual\n",
        "---"
      ],
      "id": "c870be7e"
    },
    {
      "cell_type": "markdown",
      "metadata": {},
      "source": [
        "```{css}\n",
        "<h1>this is my h1 element</h1>\n",
        "\n",
        "<h1 class=\"title\">this is a red h1 element</h1>\n",
        "\n",
        "<p> this is my paragraph</p>\n",
        "\n",
        "<p class=\"title\">this is my red paragraph</p>\n",
        "```"
      ],
      "id": "930df374"
    }
  ],
  "metadata": {
    "kernelspec": {
      "display_name": "Python 3",
      "language": "python",
      "name": "python3"
    }
  },
  "nbformat": 4,
  "nbformat_minor": 5
}